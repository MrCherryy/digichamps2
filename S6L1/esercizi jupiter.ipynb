{
 "cells": [
  {
   "cell_type": "code",
   "execution_count": 1,
   "metadata": {},
   "outputs": [
    {
     "name": "stdout",
     "output_type": "stream",
     "text": [
      "Hello, World!\n"
     ]
    }
   ],
   "source": [
    "%run script_esempio"
   ]
  },
  {
   "cell_type": "code",
   "execution_count": 2,
   "metadata": {},
   "outputs": [
    {
     "name": "stdout",
     "output_type": "stream",
     "text": [
      "Overwriting output.txt\n"
     ]
    }
   ],
   "source": [
    "%%writefile output.txt\n",
    "\"Questo è un esempio di scrittura in file usando magic command.»"
   ]
  },
  {
   "cell_type": "code",
   "execution_count": 3,
   "metadata": {},
   "outputs": [
    {
     "name": "stdout",
     "output_type": "stream",
     "text": [
      "45.5 ns ± 0.541 ns per loop (mean ± std. dev. of 7 runs, 10,000,000 loops each)\n"
     ]
    }
   ],
   "source": [
    "def calcola_quadrato(numero):\n",
    "    return numero ** 2\n",
    "\n",
    "%timeit calcola_quadrato(2)"
   ]
  },
  {
   "cell_type": "code",
   "execution_count": 4,
   "metadata": {},
   "outputs": [
    {
     "name": "stdout",
     "output_type": "stream",
     "text": [
      " Il volume nell'unit� C � Windows\n",
      " Numero di serie del volume: C428-71E5\n",
      "\n",
      " Directory di c:\\Users\\marco\\OneDrive\\Documenti\\GitHub\\digichamps2\\S6L1\n",
      "\n",
      "23/01/2024  14:36    <DIR>          .\n",
      "23/01/2024  12:02    <DIR>          ..\n",
      "23/01/2024  10:17    <DIR>          __pycache__\n",
      "23/01/2024  14:37             1.591 esercizi jupiter.ipynb\n",
      "23/01/2024  14:37                68 output.txt\n",
      "23/01/2024  14:24                22 script_esempio.py\n",
      "               3 File          1.681 byte\n",
      "               3 Directory  124.354.101.248 byte disponibili\n"
     ]
    }
   ],
   "source": [
    "%ls"
   ]
  }
 ],
 "metadata": {
  "kernelspec": {
   "display_name": "Python 3",
   "language": "python",
   "name": "python3"
  },
  "language_info": {
   "codemirror_mode": {
    "name": "ipython",
    "version": 3
   },
   "file_extension": ".py",
   "mimetype": "text/x-python",
   "name": "python",
   "nbconvert_exporter": "python",
   "pygments_lexer": "ipython3",
   "version": "3.12.1"
  }
 },
 "nbformat": 4,
 "nbformat_minor": 2
}
